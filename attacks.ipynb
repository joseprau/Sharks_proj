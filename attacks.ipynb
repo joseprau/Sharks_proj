{
 "cells": [
  {
   "cell_type": "code",
   "execution_count": 1,
   "source": [
    "import pandas as pd\n",
    "import numpy as np\n",
    "import matplotlib.pyplot as plt\n",
    "import seaborn as sns"
   ],
   "outputs": [],
   "metadata": {}
  },
  {
   "cell_type": "code",
   "execution_count": 2,
   "source": [
    "# Import the data\n",
    "data_import = pd.read_csv('attacks.csv', encoding='latin-1')"
   ],
   "outputs": [],
   "metadata": {}
  },
  {
   "cell_type": "code",
   "execution_count": 3,
   "source": [
    "# Take a look at data\n",
    "data_import.head(5)"
   ],
   "outputs": [
    {
     "output_type": "execute_result",
     "data": {
      "text/plain": [
       "    Case Number                  Date    Year        Type         Country  \\\n",
       "0    2017.06.11            2017-06-11  2017.0  Unprovoked       AUSTRALIA   \n",
       "1  2017.06.10.b            2017-06-10  2017.0  Unprovoked       AUSTRALIA   \n",
       "2  2017.06.10.a            2017-06-10  2017.0  Unprovoked             USA   \n",
       "3  2017.06.07.R  Reported 07-Jun-2017  2017.0  Unprovoked  UNITED KINGDOM   \n",
       "4    2017.06.04            2017-06-04  2017.0  Unprovoked             USA   \n",
       "\n",
       "                Area                                         Location  \\\n",
       "0  Western Australia                         Point Casuarina, Bunbury   \n",
       "1           Victoria                    Flinders, Mornington Penisula   \n",
       "2            Florida                      Ponce Inlet, Volusia County   \n",
       "3        South Devon                                    Bantham Beach   \n",
       "4            Florida  Middle Sambo Reef off Boca Chica, Monroe County   \n",
       "\n",
       "        Activity            Name Sex   ... Fatal (Y/N)   Time  \\\n",
       "0  Body boarding       Paul Goff    M  ...           N  08h30   \n",
       "1        Surfing          female    F  ...           N  15h45   \n",
       "2        Surfing     Bryan Brock    M  ...           N  10h00   \n",
       "3       Surfing     Rich Thomson    M  ...           N    NaN   \n",
       "4   Spearfishing  Parker Simpson    M  ...           N    NaN   \n",
       "\n",
       "                            Species                  Investigator or Source  \\\n",
       "0                   White shark, 4 m                    WA Today, 6/11/2017   \n",
       "1                       7 gill shark                                    NaN   \n",
       "2                                NaN  Daytona Beach News-Journal, 6/10/2017   \n",
       "3  3m shark, probably a smooth hound                         C. Moore, GSAF   \n",
       "4                           8' shark                    Nine News, 6/7/2017   \n",
       "\n",
       "                         pdf  \\\n",
       "0        2017.06.11-Goff.pdf   \n",
       "1  2017.06.10.b-Flinders.pdf   \n",
       "2     2017.06.10.a-Brock.pdf   \n",
       "3   2017.06.07.R-Thomson.pdf   \n",
       "4     2017.06.04-Simpson.pdf   \n",
       "\n",
       "                                        href formula  \\\n",
       "0  http://sharkattackfile.net/spreadsheets/pdf_di...   \n",
       "1  http://sharkattackfile.net/spreadsheets/pdf_di...   \n",
       "2  http://sharkattackfile.net/spreadsheets/pdf_di...   \n",
       "3  http://sharkattackfile.net/spreadsheets/pdf_di...   \n",
       "4  http://sharkattackfile.net/spreadsheets/pdf_di...   \n",
       "\n",
       "                                                href Case Number.1  \\\n",
       "0  http://sharkattackfile.net/spreadsheets/pdf_di...    2017.06.11   \n",
       "1  http://sharkattackfile.net/spreadsheets/pdf_di...  2017.06.10.b   \n",
       "2  http://sharkattackfile.net/spreadsheets/pdf_di...  2017.06.10.a   \n",
       "3  http://sharkattackfile.net/spreadsheets/pdf_di...  2017.06.07.R   \n",
       "4  http://sharkattackfile.net/spreadsheets/pdf_di...    2017.06.04   \n",
       "\n",
       "  Case Number.2 original order  \n",
       "0    2017.06.11         6095.0  \n",
       "1  2017.06.10.b         6094.0  \n",
       "2  2017.06.10.a         6093.0  \n",
       "3  2017.06.07.R         6092.0  \n",
       "4    2017.06.04         6091.0  \n",
       "\n",
       "[5 rows x 22 columns]"
      ],
      "text/html": [
       "<div>\n",
       "<style scoped>\n",
       "    .dataframe tbody tr th:only-of-type {\n",
       "        vertical-align: middle;\n",
       "    }\n",
       "\n",
       "    .dataframe tbody tr th {\n",
       "        vertical-align: top;\n",
       "    }\n",
       "\n",
       "    .dataframe thead th {\n",
       "        text-align: right;\n",
       "    }\n",
       "</style>\n",
       "<table border=\"1\" class=\"dataframe\">\n",
       "  <thead>\n",
       "    <tr style=\"text-align: right;\">\n",
       "      <th></th>\n",
       "      <th>Case Number</th>\n",
       "      <th>Date</th>\n",
       "      <th>Year</th>\n",
       "      <th>Type</th>\n",
       "      <th>Country</th>\n",
       "      <th>Area</th>\n",
       "      <th>Location</th>\n",
       "      <th>Activity</th>\n",
       "      <th>Name</th>\n",
       "      <th>Sex</th>\n",
       "      <th>...</th>\n",
       "      <th>Fatal (Y/N)</th>\n",
       "      <th>Time</th>\n",
       "      <th>Species</th>\n",
       "      <th>Investigator or Source</th>\n",
       "      <th>pdf</th>\n",
       "      <th>href formula</th>\n",
       "      <th>href</th>\n",
       "      <th>Case Number.1</th>\n",
       "      <th>Case Number.2</th>\n",
       "      <th>original order</th>\n",
       "    </tr>\n",
       "  </thead>\n",
       "  <tbody>\n",
       "    <tr>\n",
       "      <th>0</th>\n",
       "      <td>2017.06.11</td>\n",
       "      <td>2017-06-11</td>\n",
       "      <td>2017.0</td>\n",
       "      <td>Unprovoked</td>\n",
       "      <td>AUSTRALIA</td>\n",
       "      <td>Western Australia</td>\n",
       "      <td>Point Casuarina, Bunbury</td>\n",
       "      <td>Body boarding</td>\n",
       "      <td>Paul Goff</td>\n",
       "      <td>M</td>\n",
       "      <td>...</td>\n",
       "      <td>N</td>\n",
       "      <td>08h30</td>\n",
       "      <td>White shark, 4 m</td>\n",
       "      <td>WA Today, 6/11/2017</td>\n",
       "      <td>2017.06.11-Goff.pdf</td>\n",
       "      <td>http://sharkattackfile.net/spreadsheets/pdf_di...</td>\n",
       "      <td>http://sharkattackfile.net/spreadsheets/pdf_di...</td>\n",
       "      <td>2017.06.11</td>\n",
       "      <td>2017.06.11</td>\n",
       "      <td>6095.0</td>\n",
       "    </tr>\n",
       "    <tr>\n",
       "      <th>1</th>\n",
       "      <td>2017.06.10.b</td>\n",
       "      <td>2017-06-10</td>\n",
       "      <td>2017.0</td>\n",
       "      <td>Unprovoked</td>\n",
       "      <td>AUSTRALIA</td>\n",
       "      <td>Victoria</td>\n",
       "      <td>Flinders, Mornington Penisula</td>\n",
       "      <td>Surfing</td>\n",
       "      <td>female</td>\n",
       "      <td>F</td>\n",
       "      <td>...</td>\n",
       "      <td>N</td>\n",
       "      <td>15h45</td>\n",
       "      <td>7 gill shark</td>\n",
       "      <td>NaN</td>\n",
       "      <td>2017.06.10.b-Flinders.pdf</td>\n",
       "      <td>http://sharkattackfile.net/spreadsheets/pdf_di...</td>\n",
       "      <td>http://sharkattackfile.net/spreadsheets/pdf_di...</td>\n",
       "      <td>2017.06.10.b</td>\n",
       "      <td>2017.06.10.b</td>\n",
       "      <td>6094.0</td>\n",
       "    </tr>\n",
       "    <tr>\n",
       "      <th>2</th>\n",
       "      <td>2017.06.10.a</td>\n",
       "      <td>2017-06-10</td>\n",
       "      <td>2017.0</td>\n",
       "      <td>Unprovoked</td>\n",
       "      <td>USA</td>\n",
       "      <td>Florida</td>\n",
       "      <td>Ponce Inlet, Volusia County</td>\n",
       "      <td>Surfing</td>\n",
       "      <td>Bryan Brock</td>\n",
       "      <td>M</td>\n",
       "      <td>...</td>\n",
       "      <td>N</td>\n",
       "      <td>10h00</td>\n",
       "      <td>NaN</td>\n",
       "      <td>Daytona Beach News-Journal, 6/10/2017</td>\n",
       "      <td>2017.06.10.a-Brock.pdf</td>\n",
       "      <td>http://sharkattackfile.net/spreadsheets/pdf_di...</td>\n",
       "      <td>http://sharkattackfile.net/spreadsheets/pdf_di...</td>\n",
       "      <td>2017.06.10.a</td>\n",
       "      <td>2017.06.10.a</td>\n",
       "      <td>6093.0</td>\n",
       "    </tr>\n",
       "    <tr>\n",
       "      <th>3</th>\n",
       "      <td>2017.06.07.R</td>\n",
       "      <td>Reported 07-Jun-2017</td>\n",
       "      <td>2017.0</td>\n",
       "      <td>Unprovoked</td>\n",
       "      <td>UNITED KINGDOM</td>\n",
       "      <td>South Devon</td>\n",
       "      <td>Bantham Beach</td>\n",
       "      <td>Surfing</td>\n",
       "      <td>Rich Thomson</td>\n",
       "      <td>M</td>\n",
       "      <td>...</td>\n",
       "      <td>N</td>\n",
       "      <td>NaN</td>\n",
       "      <td>3m shark, probably a smooth hound</td>\n",
       "      <td>C. Moore, GSAF</td>\n",
       "      <td>2017.06.07.R-Thomson.pdf</td>\n",
       "      <td>http://sharkattackfile.net/spreadsheets/pdf_di...</td>\n",
       "      <td>http://sharkattackfile.net/spreadsheets/pdf_di...</td>\n",
       "      <td>2017.06.07.R</td>\n",
       "      <td>2017.06.07.R</td>\n",
       "      <td>6092.0</td>\n",
       "    </tr>\n",
       "    <tr>\n",
       "      <th>4</th>\n",
       "      <td>2017.06.04</td>\n",
       "      <td>2017-06-04</td>\n",
       "      <td>2017.0</td>\n",
       "      <td>Unprovoked</td>\n",
       "      <td>USA</td>\n",
       "      <td>Florida</td>\n",
       "      <td>Middle Sambo Reef off Boca Chica, Monroe County</td>\n",
       "      <td>Spearfishing</td>\n",
       "      <td>Parker Simpson</td>\n",
       "      <td>M</td>\n",
       "      <td>...</td>\n",
       "      <td>N</td>\n",
       "      <td>NaN</td>\n",
       "      <td>8' shark</td>\n",
       "      <td>Nine News, 6/7/2017</td>\n",
       "      <td>2017.06.04-Simpson.pdf</td>\n",
       "      <td>http://sharkattackfile.net/spreadsheets/pdf_di...</td>\n",
       "      <td>http://sharkattackfile.net/spreadsheets/pdf_di...</td>\n",
       "      <td>2017.06.04</td>\n",
       "      <td>2017.06.04</td>\n",
       "      <td>6091.0</td>\n",
       "    </tr>\n",
       "  </tbody>\n",
       "</table>\n",
       "<p>5 rows × 22 columns</p>\n",
       "</div>"
      ]
     },
     "metadata": {},
     "execution_count": 3
    }
   ],
   "metadata": {}
  },
  {
   "cell_type": "code",
   "execution_count": 4,
   "source": [
    "data_import.info()"
   ],
   "outputs": [
    {
     "output_type": "stream",
     "name": "stdout",
     "text": [
      "<class 'pandas.core.frame.DataFrame'>\n",
      "RangeIndex: 25614 entries, 0 to 25613\n",
      "Data columns (total 22 columns):\n",
      " #   Column                  Non-Null Count  Dtype  \n",
      "---  ------                  --------------  -----  \n",
      " 0   Case Number             6095 non-null   object \n",
      " 1   Date                    6094 non-null   object \n",
      " 2   Year                    6092 non-null   float64\n",
      " 3   Type                    6090 non-null   object \n",
      " 4   Country                 6048 non-null   object \n",
      " 5   Area                    5682 non-null   object \n",
      " 6   Location                5583 non-null   object \n",
      " 7   Activity                5559 non-null   object \n",
      " 8   Name                    5888 non-null   object \n",
      " 9   Sex                     5517 non-null   object \n",
      " 10  Age                     3374 non-null   object \n",
      " 11  Injury                  6066 non-null   object \n",
      " 12  Fatal (Y/N)             6064 non-null   object \n",
      " 13  Time                    2848 non-null   object \n",
      " 14  Species                 3100 non-null   object \n",
      " 15  Investigator or Source  6077 non-null   object \n",
      " 16  pdf                     6094 non-null   object \n",
      " 17  href formula            6093 non-null   object \n",
      " 18  href                    6093 non-null   object \n",
      " 19  Case Number.1           6094 non-null   object \n",
      " 20  Case Number.2           6094 non-null   object \n",
      " 21  original order          6094 non-null   float64\n",
      "dtypes: float64(2), object(20)\n",
      "memory usage: 4.3+ MB\n"
     ]
    }
   ],
   "metadata": {}
  },
  {
   "cell_type": "code",
   "execution_count": 5,
   "source": [
    "to_drop = {'Date', 'Name', 'Investigator or Source','pdf','Case Number.1', 'Case Number.2', 'original order', 'href', 'href formula'}"
   ],
   "outputs": [],
   "metadata": {}
  },
  {
   "cell_type": "code",
   "execution_count": 6,
   "source": [
    "data_import.drop(columns=to_drop, inplace=True)"
   ],
   "outputs": [],
   "metadata": {}
  },
  {
   "cell_type": "code",
   "execution_count": 7,
   "source": [
    "data_import.shape"
   ],
   "outputs": [
    {
     "output_type": "execute_result",
     "data": {
      "text/plain": [
       "(25614, 13)"
      ]
     },
     "metadata": {},
     "execution_count": 7
    }
   ],
   "metadata": {}
  },
  {
   "cell_type": "code",
   "execution_count": 8,
   "source": [
    "data_import.isna().sum()"
   ],
   "outputs": [
    {
     "output_type": "execute_result",
     "data": {
      "text/plain": [
       "Case Number    19519\n",
       "Year           19522\n",
       "Type           19524\n",
       "Country        19566\n",
       "Area           19932\n",
       "Location       20031\n",
       "Activity       20055\n",
       "Sex            20097\n",
       "Age            22240\n",
       "Injury         19548\n",
       "Fatal (Y/N)    19550\n",
       "Time           22766\n",
       "Species        22514\n",
       "dtype: int64"
      ]
     },
     "metadata": {},
     "execution_count": 8
    }
   ],
   "metadata": {}
  },
  {
   "cell_type": "code",
   "execution_count": 9,
   "source": [
    "# Drop observations where all columns are Nan\n",
    "data_import.dropna(how='all', axis=0, inplace=True)"
   ],
   "outputs": [],
   "metadata": {}
  },
  {
   "cell_type": "code",
   "execution_count": 10,
   "source": [
    "data_import.isna().sum() #I think we can work with these numbers, since no modeling will be carried out."
   ],
   "outputs": [
    {
     "output_type": "execute_result",
     "data": {
      "text/plain": [
       "Case Number       1\n",
       "Year              4\n",
       "Type              6\n",
       "Country          48\n",
       "Area            414\n",
       "Location        513\n",
       "Activity        537\n",
       "Sex             579\n",
       "Age            2722\n",
       "Injury           30\n",
       "Fatal (Y/N)      32\n",
       "Time           3248\n",
       "Species        2996\n",
       "dtype: int64"
      ]
     },
     "metadata": {},
     "execution_count": 10
    }
   ],
   "metadata": {}
  },
  {
   "cell_type": "code",
   "execution_count": 11,
   "source": [
    "# Removed vast amount of rows\n",
    "data_import.shape"
   ],
   "outputs": [
    {
     "output_type": "execute_result",
     "data": {
      "text/plain": [
       "(6096, 13)"
      ]
     },
     "metadata": {},
     "execution_count": 11
    }
   ],
   "metadata": {}
  },
  {
   "cell_type": "code",
   "execution_count": 12,
   "source": [
    "data_mod = data_import.copy(deep=True)"
   ],
   "outputs": [],
   "metadata": {}
  },
  {
   "cell_type": "code",
   "execution_count": 13,
   "source": [
    "# Removing Nan\n",
    "#data_mod.dropna(axis=0, inplace=True) (If we do this, we end up with very little data)\n"
   ],
   "outputs": [],
   "metadata": {}
  },
  {
   "cell_type": "code",
   "execution_count": 14,
   "source": [
    "data_mod.drop(columns='Case Number', inplace=True)"
   ],
   "outputs": [],
   "metadata": {}
  },
  {
   "cell_type": "markdown",
   "source": [
    "### Fatality of attacks"
   ],
   "metadata": {}
  },
  {
   "cell_type": "code",
   "execution_count": 15,
   "source": [
    "df1 = data_mod.copy(deep = True) # Copying data into a new data set so we have data_mod as original"
   ],
   "outputs": [],
   "metadata": {}
  },
  {
   "cell_type": "code",
   "execution_count": 16,
   "source": [
    "df1['Fatal (Y/N)'].value_counts()"
   ],
   "outputs": [
    {
     "output_type": "execute_result",
     "data": {
      "text/plain": [
       "N          4391\n",
       "Y          1566\n",
       "UNKNOWN      94\n",
       " N            8\n",
       "2017          1\n",
       "F             1\n",
       "N             1\n",
       "#VALUE!       1\n",
       "n             1\n",
       "Name: Fatal (Y/N), dtype: int64"
      ]
     },
     "metadata": {},
     "execution_count": 16
    }
   ],
   "metadata": {}
  },
  {
   "cell_type": "code",
   "execution_count": 17,
   "source": [
    "# Define functions\n",
    "to_uppercase = lambda x: x.upper() #Transforms everything into uppercase\n",
    "no_spaces = lambda x: x.strip() #Removes whitespaces infront and behind"
   ],
   "outputs": [],
   "metadata": {}
  },
  {
   "cell_type": "code",
   "execution_count": 18,
   "source": [
    "df1['Fatal (Y/N)'] = df1['Fatal (Y/N)'].astype(str)"
   ],
   "outputs": [],
   "metadata": {}
  },
  {
   "cell_type": "code",
   "execution_count": 19,
   "source": [
    "# Apply the functions to the col\n",
    "df1['Fatal (Y/N)'] = df1['Fatal (Y/N)'].apply(no_spaces)\n",
    "df1['Fatal (Y/N)'] = df1['Fatal (Y/N)'].apply(to_uppercase)\n",
    "df1['Fatal (Y/N)'].value_counts()\n"
   ],
   "outputs": [
    {
     "output_type": "execute_result",
     "data": {
      "text/plain": [
       "N          4401\n",
       "Y          1566\n",
       "UNKNOWN      94\n",
       "NAN          32\n",
       "2017          1\n",
       "F             1\n",
       "#VALUE!       1\n",
       "Name: Fatal (Y/N), dtype: int64"
      ]
     },
     "metadata": {},
     "execution_count": 19
    }
   ],
   "metadata": {}
  },
  {
   "cell_type": "code",
   "execution_count": 20,
   "source": [
    "df1.loc[df1['Fatal (Y/N)']== '2017','Fatal (Y/N)'] = 'N' #According to data was non-fatal"
   ],
   "outputs": [],
   "metadata": {}
  },
  {
   "cell_type": "code",
   "execution_count": 21,
   "source": [
    "df1.loc[18,'Fatal (Y/N)'] = 'N'\n",
    "df1.loc[26,'Fatal (Y/N)'] = 'Y'\n",
    "df1.loc[52,'Fatal (Y/N)'] = 'N'\n",
    "df1.loc[91,'Fatal (Y/N)'] = 'N'\n",
    "df1.loc[134,'Fatal (Y/N)'] = 'N'\n",
    "df1.loc[242,'Fatal (Y/N)'] = 'N'\n",
    "df1.loc[1152,'Fatal (Y/N)'] = 'N'\n",
    "df1.loc[3364,'Fatal (Y/N)'] = 'N'\n",
    "df1.loc[3985,'Fatal (Y/N)'] = 'N'\n",
    "df1.loc[4191,'Fatal (Y/N)'] = 'N'\n",
    "df1.loc[5524,'Fatal (Y/N)'] = 'N'\n",
    "df1.loc[5729,'Fatal (Y/N)'] = 'N'\n",
    "df1.loc[5555,'Fatal (Y/N)'] = 'Y'\n",
    "df1.loc[5805,'Fatal (Y/N)'] = 'Y'\n",
    "df1.loc[5861,'Fatal (Y/N)'] = 'Y'\n",
    "df1.loc[5884,'Fatal (Y/N)'] = 'Y'\n",
    "df1.loc[5885,'Fatal (Y/N)'] = 'Y'\n",
    "df1.loc[5944,'Fatal (Y/N)'] = 'Y'\n",
    "df1.loc[4779,'Fatal (Y/N)'] = 'Y'"
   ],
   "outputs": [],
   "metadata": {}
  },
  {
   "cell_type": "code",
   "execution_count": 22,
   "source": [
    "df1 = df1[(df1['Fatal (Y/N)']=='N')|(df1['Fatal (Y/N)']=='Y')]"
   ],
   "outputs": [],
   "metadata": {}
  },
  {
   "cell_type": "code",
   "execution_count": 23,
   "source": [
    "hist = sns.countplot('Fatal (Y/N)', data= df1) # Looks better using seaborn\n",
    "hist.set_title( 'Fatality of attacks')\n",
    "hist.set_ylabel('Count')\n"
   ],
   "outputs": [
    {
     "output_type": "stream",
     "name": "stderr",
     "text": [
      "/opt/miniconda3/envs/minimal_ds/lib/python3.9/site-packages/seaborn/_decorators.py:36: FutureWarning: Pass the following variable as a keyword arg: x. From version 0.12, the only valid positional argument will be `data`, and passing other arguments without an explicit keyword will result in an error or misinterpretation.\n",
      "  warnings.warn(\n"
     ]
    },
    {
     "output_type": "execute_result",
     "data": {
      "text/plain": [
       "Text(0, 0.5, 'Count')"
      ]
     },
     "metadata": {},
     "execution_count": 23
    },
    {
     "output_type": "display_data",
     "data": {
      "text/plain": [
       "<Figure size 432x288 with 1 Axes>"
      ],
      "image/png": "[encoded data removed]"
     },
     "metadata": {
      "needs_background": "light"
     }
    }
   ],
   "metadata": {}
  },
  {
   "cell_type": "markdown",
   "source": [
    "## Gender distribution of attacks"
   ],
   "metadata": {}
  },
  {
   "cell_type": "code",
   "execution_count": 24,
   "source": [
    "gender = sns.countplot(df1['Sex '], hue = 'Fatal (Y/N)', data = df1)"
   ],
   "outputs": [
    {
     "output_type": "stream",
     "name": "stderr",
     "text": [
      "/opt/miniconda3/envs/minimal_ds/lib/python3.9/site-packages/seaborn/_decorators.py:36: FutureWarning: Pass the following variable as a keyword arg: x. From version 0.12, the only valid positional argument will be `data`, and passing other arguments without an explicit keyword will result in an error or misinterpretation.\n",
      "  warnings.warn(\n"
     ]
    },
    {
     "output_type": "display_data",
     "data": {
      "text/plain": [
       "<Figure size 432x288 with 1 Axes>"
      ],
      "image/png": "[encoded data removed]"
     },
     "metadata": {
      "needs_background": "light"
     }
    }
   ],
   "metadata": {}
  },
  {
   "cell_type": "code",
   "execution_count": 25,
   "source": [
    "df1['Sex '] = df1['Sex '].astype(str)\n",
    "df1['Sex '] = df1['Sex '].apply(no_spaces)\n",
    "df1['Sex '].value_counts()"
   ],
   "outputs": [
    {
     "output_type": "execute_result",
     "data": {
      "text/plain": [
       "M      4853\n",
       "F       600\n",
       "nan     531\n",
       "lli       1\n",
       "N         1\n",
       ".         1\n",
       "Name: Sex , dtype: int64"
      ]
     },
     "metadata": {},
     "execution_count": 25
    }
   ],
   "metadata": {}
  },
  {
   "cell_type": "code",
   "execution_count": 26,
   "source": [
    "df1.loc[df1['Sex '] == 'lli','Sex '] = 'M' #Brian Kang is a male"
   ],
   "outputs": [],
   "metadata": {}
  },
  {
   "cell_type": "code",
   "execution_count": 27,
   "source": [
    "df1 = df1[(df1['Sex ']=='M')|(df1['Sex ']=='F')]"
   ],
   "outputs": [],
   "metadata": {}
  },
  {
   "cell_type": "code",
   "execution_count": 28,
   "source": [
    "gender = sns.countplot(df1['Sex '], hue = 'Fatal (Y/N)', data = df1)\n",
    "gender.set_title('Gender distribution of attacks')\n",
    "gender.set_ylabel('Count')"
   ],
   "outputs": [
    {
     "output_type": "stream",
     "name": "stderr",
     "text": [
      "/opt/miniconda3/envs/minimal_ds/lib/python3.9/site-packages/seaborn/_decorators.py:36: FutureWarning: Pass the following variable as a keyword arg: x. From version 0.12, the only valid positional argument will be `data`, and passing other arguments without an explicit keyword will result in an error or misinterpretation.\n",
      "  warnings.warn(\n"
     ]
    },
    {
     "output_type": "execute_result",
     "data": {
      "text/plain": [
       "Text(0, 0.5, 'Count')"
      ]
     },
     "metadata": {},
     "execution_count": 28
    },
    {
     "output_type": "display_data",
     "data": {
      "text/plain": [
       "<Figure size 432x288 with 1 Axes>"
      ],
      "image/png": "[encoded data removed]"
     },
     "metadata": {
      "needs_background": "light"
     }
    }
   ],
   "metadata": {}
  },
  {
   "cell_type": "markdown",
   "source": [
    "## Type of attack"
   ],
   "metadata": {}
  },
  {
   "cell_type": "code",
   "execution_count": 29,
   "source": [
    "type_graph = sns.countplot('Type',hue ='Fatal (Y/N)', data = df1)\n",
    "type_graph.set_ylabel('logged Count')\n",
    "type_graph.set_title('Fatality by Type')"
   ],
   "outputs": [
    {
     "output_type": "stream",
     "name": "stderr",
     "text": [
      "/opt/miniconda3/envs/minimal_ds/lib/python3.9/site-packages/seaborn/_decorators.py:36: FutureWarning: Pass the following variable as a keyword arg: x. From version 0.12, the only valid positional argument will be `data`, and passing other arguments without an explicit keyword will result in an error or misinterpretation.\n",
      "  warnings.warn(\n"
     ]
    },
    {
     "output_type": "execute_result",
     "data": {
      "text/plain": [
       "Text(0.5, 1.0, 'Fatality by Type')"
      ]
     },
     "metadata": {},
     "execution_count": 29
    },
    {
     "output_type": "display_data",
     "data": {
      "text/plain": [
       "<Figure size 432x288 with 1 Axes>"
      ],
      "image/png": "[encoded data removed]"
     },
     "metadata": {
      "needs_background": "light"
     }
    }
   ],
   "metadata": {}
  },
  {
   "cell_type": "markdown",
   "source": [
    "## Activity "
   ],
   "metadata": {}
  },
  {
   "cell_type": "code",
   "execution_count": 30,
   "source": [
    "df1['Activity'].value_counts()"
   ],
   "outputs": [
    {
     "output_type": "execute_result",
     "data": {
      "text/plain": [
       "Surfing                                         899\n",
       "Swimming                                        801\n",
       "Fishing                                         321\n",
       "Spearfishing                                    306\n",
       "Bathing                                         146\n",
       "                                               ... \n",
       "Washing cooking pans                              1\n",
       "Spearfishing / freediving                         1\n",
       "Attempted to return injured shark to the sea      1\n",
       "Air disaster                                      1\n",
       "4 men were bathing                                1\n",
       "Name: Activity, Length: 1340, dtype: int64"
      ]
     },
     "metadata": {},
     "execution_count": 30
    }
   ],
   "metadata": {}
  },
  {
   "cell_type": "code",
   "execution_count": 31,
   "source": [
    "df1['Activity']=df1['Activity'].astype(str)\n",
    "lower = lambda x: x.lower()\n",
    "df1['Activity']=df1['Activity'].apply(lower)"
   ],
   "outputs": [],
   "metadata": {}
  },
  {
   "cell_type": "code",
   "execution_count": 32,
   "source": [
    "# Capture different activities\n",
    "for i in range(len(df1['Activity'])): \n",
    "    \n",
    "    if 'surfing' in df1['Activity'].iloc[i].split():\n",
    "        df1.replace(to_replace = df1['Activity'].iloc[i],value = 'surfing', inplace = True)\n",
    "    elif 'surfing,' in df1['Activity'].iloc[i].split():\n",
    "        df1.replace(to_replace = df1['Activity'].iloc[i],value = 'surfing', inplace = True)\n",
    "    elif 'surfboard' in df1['Activity'].iloc[i].split():\n",
    "        df1.replace(to_replace = df1['Activity'].iloc[i],value = 'surfing', inplace = True)\n",
    "    elif 'swimming' in df1['Activity'].iloc[i].split():\n",
    "        df1.replace(to_replace = df1['Activity'].iloc[i],value = 'swimming', inplace = True)\n",
    "    elif 'swimming,' in df1['Activity'].iloc[i].split():\n",
    "        df1.replace(to_replace = df1['Activity'].iloc[i],value = 'swimming', inplace = True)\n",
    "    elif 'bathing' in df1['Activity'].iloc[i].split():\n",
    "        df1.replace(to_replace = df1['Activity'].iloc[i],value = 'swimming', inplace = True)\n",
    "    elif 'floating' in df1['Activity'].iloc[i].split():\n",
    "        df1.replace(to_replace = df1['Activity'].iloc[i],value = 'swimming', inplace = True)\n",
    "    elif 'water' in df1['Activity'].iloc[i].split():\n",
    "        df1.replace(to_replace = df1['Activity'].iloc[i],value = 'swimming', inplace = True)\n",
    "    elif 'fishing' in df1['Activity'].iloc[i].split():\n",
    "        df1.replace(to_replace = df1['Activity'].iloc[i],value = 'fishing', inplace = True)\n",
    "    elif 'fishing,' in df1['Activity'].iloc[i].split():\n",
    "        df1.replace(to_replace = df1['Activity'].iloc[i],value = 'fishing', inplace = True)\n",
    "    elif 'wading' in df1['Activity'].iloc[i].split():\n",
    "        df1.replace(to_replace = df1['Activity'].iloc[i],value = 'wading', inplace = True)\n",
    "    elif 'standing' in df1['Activity'].iloc[i].split():\n",
    "        df1.replace(to_replace = df1['Activity'].iloc[i],value = 'wading', inplace = True)\n",
    "    elif 'boogie' in df1['Activity'].iloc[i].split():\n",
    "        df1.replace(to_replace = df1['Activity'].iloc[i],value = 'body boarding', inplace = True)\n",
    "    elif 'body-boarding' in df1['Activity'].iloc[i].split():\n",
    "        df1.replace(to_replace = df1['Activity'].iloc[i],value = 'body boarding', inplace = True)\n",
    "    elif 'bodyboarding' in df1['Activity'].iloc[i].split():\n",
    "        df1.replace(to_replace = df1['Activity'].iloc[i],value = 'body boarding', inplace = True)\n",
    "    elif 'spearfishing' in df1['Activity'].iloc[i].split():\n",
    "        df1.replace(to_replace = df1['Activity'].iloc[i],value = 'spearfishing', inplace = True)\n",
    "    elif 'spearfishing,' in df1['Activity'].iloc[i].split():\n",
    "        df1.replace(to_replace = df1['Activity'].iloc[i],value = 'spearfishing', inplace = True)\n",
    "    elif 'diving' in df1['Activity'].iloc[i].split():\n",
    "        df1.replace(to_replace = df1['Activity'].iloc[i],value = 'diving', inplace = True)\n",
    "    elif 'freediving' in df1['Activity'].iloc[i].split():\n",
    "        df1.replace(to_replace = df1['Activity'].iloc[i],value = 'diving', inplace = True)\n",
    "    elif 'skindiving' in df1['Activity'].iloc[i].split():\n",
    "        df1.replace(to_replace = df1['Activity'].iloc[i],value = 'diving', inplace = True)\n",
    "    elif 'snorkeling' in df1['Activity'].iloc[i].split():\n",
    "        df1.replace(to_replace = df1['Activity'].iloc[i],value = 'snorkeling', inplace = True)\n",
    "    elif 'surf-skiing' in df1['Activity'].iloc[i].split():\n",
    "        df1.replace(to_replace = df1['Activity'].iloc[i],value = 'surf skiing', inplace = True)\n",
    "    elif 'skiing' in df1['Activity'].iloc[i].split():\n",
    "        df1.replace(to_replace = df1['Activity'].iloc[i],value = 'surf skiing', inplace = True)\n",
    "    elif 'canoeing' in df1['Activity'].iloc[i].split():\n",
    "        df1.replace(to_replace = df1['Activity'].iloc[i],value = 'kayaking', inplace = True)"
   ],
   "outputs": [],
   "metadata": {}
  },
  {
   "cell_type": "code",
   "execution_count": 33,
   "source": [
    "activity_counts = df1['Activity'].value_counts() #Create df with the value counts for each activity\n",
    "activity_count_list = activity_counts[activity_counts > 10].index.tolist() #Creates a list with activities which appear more than 10 times\n",
    "df1 = df1[df1['Activity'].isin(activity_count_list)] # selecting those which are in the list\n",
    "df1 = df1[df1['Activity'] != 'sea disaster']"
   ],
   "outputs": [],
   "metadata": {}
  },
  {
   "cell_type": "code",
   "execution_count": 34,
   "source": [
    "activity = sns.countplot(y='Activity',hue = 'Fatal (Y/N)', data = df1)\n",
    "activity.set_xlabel('Count')\n",
    "activity.set_title('Activity')"
   ],
   "outputs": [
    {
     "output_type": "execute_result",
     "data": {
      "text/plain": [
       "Text(0.5, 1.0, 'Activity')"
      ]
     },
     "metadata": {},
     "execution_count": 34
    },
    {
     "output_type": "display_data",
     "data": {
      "text/plain": [
       "<Figure size 432x288 with 1 Axes>"
      ],
      "image/png": "[encoded data removed]"
     },
     "metadata": {
      "needs_background": "light"
     }
    }
   ],
   "metadata": {}
  },
  {
   "cell_type": "markdown",
   "source": [
    "## Locations/Countries"
   ],
   "metadata": {}
  },
  {
   "cell_type": "markdown",
   "source": [
    "* Which is the deadliest country?\n",
    "* Which is the country with most attacks?\n",
    "* Dead rate per country?"
   ],
   "metadata": {}
  },
  {
   "cell_type": "code",
   "execution_count": 35,
   "source": [
    "fatal = pd.get_dummies(df1['Fatal (Y/N)'], drop_first = True)\n",
    "# df1.drop('Fatal (Y/N)', axis = 1, inplace = True)\n",
    "df1 = pd.concat([df1, fatal], axis = 1)"
   ],
   "outputs": [],
   "metadata": {}
  },
  {
   "cell_type": "code",
   "execution_count": 36,
   "source": [
    "df1['Country']=df1['Country'].astype(str)\n",
    "title_format = lambda x: x.title()\n",
    "df1['Country'] = df1['Country'].apply(title_format)\n",
    "country_attack_count = df1['Country'].value_counts()\n",
    "subset_countries_att = country_attack_count[:5]\n",
    "attacks_country = sns.barplot(x=subset_countries_att.index, y=subset_countries_att.values)\n",
    "attacks_country.set_title('Top 5 places to be attacked')\n",
    "attacks_country.set_ylabel('Nº of atacks')\n",
    "attacks_country.set_xlabel('Country')\n",
    "plt.xticks(rotation=90)\n"
   ],
   "outputs": [
    {
     "output_type": "execute_result",
     "data": {
      "text/plain": [
       "(array([0, 1, 2, 3, 4]),\n",
       " [Text(0, 0, 'Usa'),\n",
       "  Text(1, 0, 'Australia'),\n",
       "  Text(2, 0, 'South Africa'),\n",
       "  Text(3, 0, 'New Zealand'),\n",
       "  Text(4, 0, 'Papua New Guinea')])"
      ]
     },
     "metadata": {},
     "execution_count": 36
    },
    {
     "output_type": "display_data",
     "data": {
      "text/plain": [
       "<Figure size 432x288 with 1 Axes>"
      ],
      "image/png": "[encoded data removed]"
     },
     "metadata": {
      "needs_background": "light"
     }
    }
   ],
   "metadata": {}
  },
  {
   "cell_type": "code",
   "execution_count": 37,
   "source": [
    "fatals= df1[df1['Y']==1]\n",
    "count_fata = fatals.Country.value_counts()\n",
    "subset_fatal = count_fata[:5]\n",
    "fatal_attacks_country = sns.barplot(x=subset_fatal.index, y=subset_fatal.values)\n",
    "fatal_attacks_country.set_title('Top 5 with fatal attacks')\n",
    "fatal_attacks_country.set_ylabel('Nº of fatal atacks')\n",
    "fatal_attacks_country.set_xlabel('Country')\n",
    "plt.xticks(rotation=90)\n",
    "\n"
   ],
   "outputs": [
    {
     "output_type": "execute_result",
     "data": {
      "text/plain": [
       "(array([0, 1, 2, 3, 4]),\n",
       " [Text(0, 0, 'Australia'),\n",
       "  Text(1, 0, 'Usa'),\n",
       "  Text(2, 0, 'South Africa'),\n",
       "  Text(3, 0, 'Papua New Guinea'),\n",
       "  Text(4, 0, 'Mexico')])"
      ]
     },
     "metadata": {},
     "execution_count": 37
    },
    {
     "output_type": "display_data",
     "data": {
      "text/plain": [
       "<Figure size 432x288 with 1 Axes>"
      ],
      "image/png": "[encoded data removed]"
     },
     "metadata": {
      "needs_background": "light"
     }
    }
   ],
   "metadata": {}
  },
  {
   "cell_type": "code",
   "execution_count": 38,
   "source": [
    "dfFatal = count_fata # Fatal attacks\n",
    "dfAll_att = country_attack_count #All attacks"
   ],
   "outputs": [],
   "metadata": {}
  },
  {
   "cell_type": "code",
   "execution_count": 39,
   "source": [
    "merged_df = pd.concat([dfAll_att, dfFatal], axis=1) # Merging both dfs"
   ],
   "outputs": [],
   "metadata": {}
  },
  {
   "cell_type": "code",
   "execution_count": 40,
   "source": [
    "merged_df.columns = ['Total Attacks', 'Fatal Attacks']"
   ],
   "outputs": [],
   "metadata": {}
  },
  {
   "cell_type": "code",
   "execution_count": 41,
   "source": [
    "def_mergeddf = merged_df[(merged_df['Total Attacks']>10) & merged_df['Fatal Attacks'] >= 1.0] #Keep data for countries with more than 10 attacks and +1 fatal attack\n",
    "def_mergeddf['Fatality Rate'] = def_mergeddf['Fatal Attacks']/def_mergeddf['Total Attacks'] # Comupting fatality rate"
   ],
   "outputs": [
    {
     "output_type": "stream",
     "name": "stderr",
     "text": [
      "/var/folders/xn/r9xc8p3151s4yw6tpl5_31mm0000gn/T/ipykernel_72681/2942213718.py:2: SettingWithCopyWarning: \n",
      "A value is trying to be set on a copy of a slice from a DataFrame.\n",
      "Try using .loc[row_indexer,col_indexer] = value instead\n",
      "\n",
      "See the caveats in the documentation: https://pandas.pydata.org/pandas-docs/stable/user_guide/indexing.html#returning-a-view-versus-a-copy\n",
      "  def_mergeddf['Fatality Rate'] = def_mergeddf['Fatal Attacks']/def_mergeddf['Total Attacks'] # Comupting fatality rate\n"
     ]
    }
   ],
   "metadata": {}
  },
  {
   "cell_type": "code",
   "execution_count": 42,
   "source": [
    "sorted_merged = def_mergeddf.sort_values(by ='Fatality Rate', ascending = False) # Sort values by fatality rate"
   ],
   "outputs": [],
   "metadata": {}
  },
  {
   "cell_type": "code",
   "execution_count": 43,
   "source": [
    "sorted_merged['Fatal Attacks'] = sorted_merged['Fatal Attacks'].astype(np.int64) # Convert fatal attacks into an int\n",
    "sorted_merged['Fatality Rate'] = sorted_merged['Fatality Rate'].round(2) #Convert fatality rate into a 2 decimal number\n",
    "sorted_merged"
   ],
   "outputs": [
    {
     "output_type": "execute_result",
     "data": {
      "text/plain": [
       "                  Total Attacks  Fatal Attacks  Fatality Rate\n",
       "Vanuatu                      11              9           0.82\n",
       "Hong Kong                    21             15           0.71\n",
       "Greece                       17             12           0.71\n",
       "Costa Rica                   11              7           0.64\n",
       "Croatia                      22             13           0.59\n",
       "Philippines                  24             13           0.54\n",
       "Jamaica                      19             10           0.53\n",
       "Panama                       23             12           0.52\n",
       "Japan                        23             12           0.52\n",
       "Mexico                       70             36           0.51\n",
       "Cuba                         22             11           0.50\n",
       "Nan                          24             12           0.50\n",
       "New Caledonia                31             15           0.48\n",
       "India                        22             10           0.45\n",
       "Venezuela                    11              5           0.45\n",
       "Reunion                      49             22           0.45\n",
       "Iran                         29             13           0.45\n",
       "Mozambique                   36             16           0.44\n",
       "Indonesia                    12              5           0.42\n",
       "Papua New Guinea             98             40           0.41\n",
       "Brazil                       80             32           0.40\n",
       "Solomon Islands              20              8           0.40\n",
       "Egypt                        31             10           0.32\n",
       "Fiji                         49             15           0.31\n",
       "Italy                        47             13           0.28\n",
       "Australia                  1009            279           0.28\n",
       "Tonga                        11              3           0.27\n",
       "South Africa                453            118           0.26\n",
       "New Zealand                  99             23           0.23\n",
       "Spain                        31              7           0.23\n",
       "England                      18              4           0.22\n",
       "Bermuda                      11              2           0.18\n",
       "Usa                        1843            195           0.11\n",
       "Bahamas                      81              7           0.09\n",
       "French Polynesia             17              1           0.06"
      ],
      "text/html": [
       "<div>\n",
       "<style scoped>\n",
       "    .dataframe tbody tr th:only-of-type {\n",
       "        vertical-align: middle;\n",
       "    }\n",
       "\n",
       "    .dataframe tbody tr th {\n",
       "        vertical-align: top;\n",
       "    }\n",
       "\n",
       "    .dataframe thead th {\n",
       "        text-align: right;\n",
       "    }\n",
       "</style>\n",
       "<table border=\"1\" class=\"dataframe\">\n",
       "  <thead>\n",
       "    <tr style=\"text-align: right;\">\n",
       "      <th></th>\n",
       "      <th>Total Attacks</th>\n",
       "      <th>Fatal Attacks</th>\n",
       "      <th>Fatality Rate</th>\n",
       "    </tr>\n",
       "  </thead>\n",
       "  <tbody>\n",
       "    <tr>\n",
       "      <th>Vanuatu</th>\n",
       "      <td>11</td>\n",
       "      <td>9</td>\n",
       "      <td>0.82</td>\n",
       "    </tr>\n",
       "    <tr>\n",
       "      <th>Hong Kong</th>\n",
       "      <td>21</td>\n",
       "      <td>15</td>\n",
       "      <td>0.71</td>\n",
       "    </tr>\n",
       "    <tr>\n",
       "      <th>Greece</th>\n",
       "      <td>17</td>\n",
       "      <td>12</td>\n",
       "      <td>0.71</td>\n",
       "    </tr>\n",
       "    <tr>\n",
       "      <th>Costa Rica</th>\n",
       "      <td>11</td>\n",
       "      <td>7</td>\n",
       "      <td>0.64</td>\n",
       "    </tr>\n",
       "    <tr>\n",
       "      <th>Croatia</th>\n",
       "      <td>22</td>\n",
       "      <td>13</td>\n",
       "      <td>0.59</td>\n",
       "    </tr>\n",
       "    <tr>\n",
       "      <th>Philippines</th>\n",
       "      <td>24</td>\n",
       "      <td>13</td>\n",
       "      <td>0.54</td>\n",
       "    </tr>\n",
       "    <tr>\n",
       "      <th>Jamaica</th>\n",
       "      <td>19</td>\n",
       "      <td>10</td>\n",
       "      <td>0.53</td>\n",
       "    </tr>\n",
       "    <tr>\n",
       "      <th>Panama</th>\n",
       "      <td>23</td>\n",
       "      <td>12</td>\n",
       "      <td>0.52</td>\n",
       "    </tr>\n",
       "    <tr>\n",
       "      <th>Japan</th>\n",
       "      <td>23</td>\n",
       "      <td>12</td>\n",
       "      <td>0.52</td>\n",
       "    </tr>\n",
       "    <tr>\n",
       "      <th>Mexico</th>\n",
       "      <td>70</td>\n",
       "      <td>36</td>\n",
       "      <td>0.51</td>\n",
       "    </tr>\n",
       "    <tr>\n",
       "      <th>Cuba</th>\n",
       "      <td>22</td>\n",
       "      <td>11</td>\n",
       "      <td>0.50</td>\n",
       "    </tr>\n",
       "    <tr>\n",
       "      <th>Nan</th>\n",
       "      <td>24</td>\n",
       "      <td>12</td>\n",
       "      <td>0.50</td>\n",
       "    </tr>\n",
       "    <tr>\n",
       "      <th>New Caledonia</th>\n",
       "      <td>31</td>\n",
       "      <td>15</td>\n",
       "      <td>0.48</td>\n",
       "    </tr>\n",
       "    <tr>\n",
       "      <th>India</th>\n",
       "      <td>22</td>\n",
       "      <td>10</td>\n",
       "      <td>0.45</td>\n",
       "    </tr>\n",
       "    <tr>\n",
       "      <th>Venezuela</th>\n",
       "      <td>11</td>\n",
       "      <td>5</td>\n",
       "      <td>0.45</td>\n",
       "    </tr>\n",
       "    <tr>\n",
       "      <th>Reunion</th>\n",
       "      <td>49</td>\n",
       "      <td>22</td>\n",
       "      <td>0.45</td>\n",
       "    </tr>\n",
       "    <tr>\n",
       "      <th>Iran</th>\n",
       "      <td>29</td>\n",
       "      <td>13</td>\n",
       "      <td>0.45</td>\n",
       "    </tr>\n",
       "    <tr>\n",
       "      <th>Mozambique</th>\n",
       "      <td>36</td>\n",
       "      <td>16</td>\n",
       "      <td>0.44</td>\n",
       "    </tr>\n",
       "    <tr>\n",
       "      <th>Indonesia</th>\n",
       "      <td>12</td>\n",
       "      <td>5</td>\n",
       "      <td>0.42</td>\n",
       "    </tr>\n",
       "    <tr>\n",
       "      <th>Papua New Guinea</th>\n",
       "      <td>98</td>\n",
       "      <td>40</td>\n",
       "      <td>0.41</td>\n",
       "    </tr>\n",
       "    <tr>\n",
       "      <th>Brazil</th>\n",
       "      <td>80</td>\n",
       "      <td>32</td>\n",
       "      <td>0.40</td>\n",
       "    </tr>\n",
       "    <tr>\n",
       "      <th>Solomon Islands</th>\n",
       "      <td>20</td>\n",
       "      <td>8</td>\n",
       "      <td>0.40</td>\n",
       "    </tr>\n",
       "    <tr>\n",
       "      <th>Egypt</th>\n",
       "      <td>31</td>\n",
       "      <td>10</td>\n",
       "      <td>0.32</td>\n",
       "    </tr>\n",
       "    <tr>\n",
       "      <th>Fiji</th>\n",
       "      <td>49</td>\n",
       "      <td>15</td>\n",
       "      <td>0.31</td>\n",
       "    </tr>\n",
       "    <tr>\n",
       "      <th>Italy</th>\n",
       "      <td>47</td>\n",
       "      <td>13</td>\n",
       "      <td>0.28</td>\n",
       "    </tr>\n",
       "    <tr>\n",
       "      <th>Australia</th>\n",
       "      <td>1009</td>\n",
       "      <td>279</td>\n",
       "      <td>0.28</td>\n",
       "    </tr>\n",
       "    <tr>\n",
       "      <th>Tonga</th>\n",
       "      <td>11</td>\n",
       "      <td>3</td>\n",
       "      <td>0.27</td>\n",
       "    </tr>\n",
       "    <tr>\n",
       "      <th>South Africa</th>\n",
       "      <td>453</td>\n",
       "      <td>118</td>\n",
       "      <td>0.26</td>\n",
       "    </tr>\n",
       "    <tr>\n",
       "      <th>New Zealand</th>\n",
       "      <td>99</td>\n",
       "      <td>23</td>\n",
       "      <td>0.23</td>\n",
       "    </tr>\n",
       "    <tr>\n",
       "      <th>Spain</th>\n",
       "      <td>31</td>\n",
       "      <td>7</td>\n",
       "      <td>0.23</td>\n",
       "    </tr>\n",
       "    <tr>\n",
       "      <th>England</th>\n",
       "      <td>18</td>\n",
       "      <td>4</td>\n",
       "      <td>0.22</td>\n",
       "    </tr>\n",
       "    <tr>\n",
       "      <th>Bermuda</th>\n",
       "      <td>11</td>\n",
       "      <td>2</td>\n",
       "      <td>0.18</td>\n",
       "    </tr>\n",
       "    <tr>\n",
       "      <th>Usa</th>\n",
       "      <td>1843</td>\n",
       "      <td>195</td>\n",
       "      <td>0.11</td>\n",
       "    </tr>\n",
       "    <tr>\n",
       "      <th>Bahamas</th>\n",
       "      <td>81</td>\n",
       "      <td>7</td>\n",
       "      <td>0.09</td>\n",
       "    </tr>\n",
       "    <tr>\n",
       "      <th>French Polynesia</th>\n",
       "      <td>17</td>\n",
       "      <td>1</td>\n",
       "      <td>0.06</td>\n",
       "    </tr>\n",
       "  </tbody>\n",
       "</table>\n",
       "</div>"
      ]
     },
     "metadata": {},
     "execution_count": 43
    }
   ],
   "metadata": {}
  },
  {
   "cell_type": "code",
   "execution_count": 45,
   "source": [
    "fatality_rate_graph = sns.barplot(x=sorted_merged.index, y=sorted_merged['Fatality Rate'])\n",
    "fatality_rate_graph.set_title('Fatality Rate per country')\n",
    "fatality_rate_graph.set_xlabel('Country')\n",
    "plt.xticks(rotation=90)"
   ],
   "outputs": [
    {
     "output_type": "execute_result",
     "data": {
      "text/plain": [
       "(array([ 0,  1,  2,  3,  4,  5,  6,  7,  8,  9, 10, 11, 12, 13, 14, 15, 16,\n",
       "        17, 18, 19, 20, 21, 22, 23, 24, 25, 26, 27, 28, 29, 30, 31, 32, 33,\n",
       "        34]),\n",
       " [Text(0, 0, 'Vanuatu'),\n",
       "  Text(1, 0, 'Hong Kong'),\n",
       "  Text(2, 0, 'Greece'),\n",
       "  Text(3, 0, 'Costa Rica'),\n",
       "  Text(4, 0, 'Croatia'),\n",
       "  Text(5, 0, 'Philippines'),\n",
       "  Text(6, 0, 'Jamaica'),\n",
       "  Text(7, 0, 'Panama'),\n",
       "  Text(8, 0, 'Japan'),\n",
       "  Text(9, 0, 'Mexico'),\n",
       "  Text(10, 0, 'Cuba'),\n",
       "  Text(11, 0, 'Nan'),\n",
       "  Text(12, 0, 'New Caledonia'),\n",
       "  Text(13, 0, 'India'),\n",
       "  Text(14, 0, 'Venezuela'),\n",
       "  Text(15, 0, 'Reunion'),\n",
       "  Text(16, 0, 'Iran'),\n",
       "  Text(17, 0, 'Mozambique'),\n",
       "  Text(18, 0, 'Indonesia'),\n",
       "  Text(19, 0, 'Papua New Guinea'),\n",
       "  Text(20, 0, 'Brazil'),\n",
       "  Text(21, 0, 'Solomon Islands'),\n",
       "  Text(22, 0, 'Egypt'),\n",
       "  Text(23, 0, 'Fiji'),\n",
       "  Text(24, 0, 'Italy'),\n",
       "  Text(25, 0, 'Australia'),\n",
       "  Text(26, 0, 'Tonga'),\n",
       "  Text(27, 0, 'South Africa'),\n",
       "  Text(28, 0, 'New Zealand'),\n",
       "  Text(29, 0, 'Spain'),\n",
       "  Text(30, 0, 'England'),\n",
       "  Text(31, 0, 'Bermuda'),\n",
       "  Text(32, 0, 'Usa'),\n",
       "  Text(33, 0, 'Bahamas'),\n",
       "  Text(34, 0, 'French Polynesia')])"
      ]
     },
     "metadata": {},
     "execution_count": 45
    },
    {
     "output_type": "display_data",
     "data": {
      "text/plain": [
       "<Figure size 432x288 with 1 Axes>"
      ],
      "image/png": "[encoded data removed]"
     },
     "metadata": {
      "needs_background": "light"
     }
    }
   ],
   "metadata": {}
  },
  {
   "cell_type": "markdown",
   "source": [
    "## Lastly, let's take a look at the years"
   ],
   "metadata": {}
  },
  {
   "cell_type": "code",
   "execution_count": 55,
   "source": [
    "df1['Year'].dtype # Float. We need it as an int\n",
    "df1=df1[~df1['Year'].isna()] #Select with no Nan   "
   ],
   "outputs": [],
   "metadata": {}
  },
  {
   "cell_type": "code",
   "execution_count": 59,
   "source": [
    "df1.Year=df1.Year.astype(np.int64)"
   ],
   "outputs": [],
   "metadata": {}
  },
  {
   "cell_type": "code",
   "execution_count": 108,
   "source": [
    "Years_df = df1['Year'].value_counts()\n",
    "Years_df = pd.DataFrame(Years_df)\n",
    "Years_df = Years_df.sort_index(ascending=False)[:100]\n"
   ],
   "outputs": [],
   "metadata": {}
  },
  {
   "cell_type": "code",
   "execution_count": 122,
   "source": [
    "plt.plot(Years_df.index,Years_df.values)\n",
    "plt.ylabel('Number of attacks')\n",
    "plt.xlabel('Years')\n",
    "plt.title('Evolution of shark attacks over the last century')\n",
    "plt.xticks([1920,1930,1940,1950,1960,1970,1980,1990,2000,2010,2020],rotation=90)"
   ],
   "outputs": [
    {
     "output_type": "execute_result",
     "data": {
      "text/plain": [
       "([<matplotlib.axis.XTick at 0x15706c700>,\n",
       "  <matplotlib.axis.XTick at 0x15706c7c0>,\n",
       "  <matplotlib.axis.XTick at 0x152c2e370>,\n",
       "  <matplotlib.axis.XTick at 0x157081c10>,\n",
       "  <matplotlib.axis.XTick at 0x15708b3a0>,\n",
       "  <matplotlib.axis.XTick at 0x15708baf0>,\n",
       "  <matplotlib.axis.XTick at 0x157092280>,\n",
       "  <matplotlib.axis.XTick at 0x15708ba60>,\n",
       "  <matplotlib.axis.XTick at 0x157081730>,\n",
       "  <matplotlib.axis.XTick at 0x157092b50>,\n",
       "  <matplotlib.axis.XTick at 0x1570972e0>],\n",
       " [Text(0, 0, ''),\n",
       "  Text(0, 0, ''),\n",
       "  Text(0, 0, ''),\n",
       "  Text(0, 0, ''),\n",
       "  Text(0, 0, ''),\n",
       "  Text(0, 0, ''),\n",
       "  Text(0, 0, ''),\n",
       "  Text(0, 0, ''),\n",
       "  Text(0, 0, ''),\n",
       "  Text(0, 0, ''),\n",
       "  Text(0, 0, '')])"
      ]
     },
     "metadata": {},
     "execution_count": 122
    },
    {
     "output_type": "display_data",
     "data": {
      "text/plain": [
       "<Figure size 432x288 with 1 Axes>"
      ],
      "image/png": "[encoded data removed]"
     },
     "metadata": {
      "needs_background": "light"
     }
    }
   ],
   "metadata": {}
  },
  {
   "cell_type": "code",
   "execution_count": null,
   "source": [],
   "outputs": [],
   "metadata": {}
  }
 ],
 "metadata": {
  "orig_nbformat": 4,
  "language_info": {
   "name": "python",
   "version": "3.9.10",
   "mimetype": "text/x-python",
   "codemirror_mode": {
    "name": "ipython",
    "version": 3
   },
   "pygments_lexer": "ipython3",
   "nbconvert_exporter": "python",
   "file_extension": ".py"
  },
  "kernelspec": {
   "name": "python3",
   "display_name": "Python 3.9.10 64-bit ('minimal_ds': conda)"
  },
  "interpreter": {
   "hash": "8c8ddd27e64e4dc8cecdef6b2dd18aa6e5d748d6b7d639627995056072287257"
  }
 },
 "nbformat": 4,
 "nbformat_minor": 2
}